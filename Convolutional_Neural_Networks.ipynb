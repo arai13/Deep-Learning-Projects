{
 "cells": [
  {
   "cell_type": "markdown",
   "metadata": {},
   "source": [
    "# Deep Learning Project 3 due Thursday 3/31\n",
    "\n",
    "## Convolutional Neural Networks and Image Classification\n",
    "\n",
    "In this project, you will apply convolutional neural networks and ideas learned in Chapters 4 and 5 of our textbook to classify images in a dataset of your choice. \n",
    "\n",
    "### The datasets\n",
    "\n",
    "There are three other image datasets packaged with Keras that we have not yet explored: \n",
    "* CIFAR-10: is a dataset of 50,000 32x32 color training images and 10,000 test images, labeled over 10 categories.\n",
    "* CIFAR-100: is a dataset of 50,000 32x32 color training images and 10,000 test images, labeled over 100 fine-grained classes that are grouped into 20 coarse-grained classes. \n",
    "* Fashion MNIST dataset: is a dataset of 60,000 28x28 grayscale images of 10 fashion categories, along with a test set of 10,000 images\n",
    "\n",
    "Instructions for loading these datasets from Keras are found [here](https://keras.io/api/datasets/). \n",
    "\n",
    "**CIFAR-10 and Fashion MNIST are pretty simple to solve with CNNs. So use these datasets only for experimentation purposes.**\n",
    "\n",
    "For Project 2, you can choose CIFAR-100 or another datasets of your own choice for multiclass classification. Just be mindful of the problem size (number of samples) you are trying to tackle. [Kaggle](kaggle.com) is a good place to look around. One clean Kaggle project I know of is the [Humpback whale dataset](https://www.kaggle.com/c/humpback-whale-identification/data?select=train). There are roughly 25.4K files in the training set and 7.9K files in the test set. This dataset  has received a lot of attention over the last two years. \n",
    "\n",
    "### The Approach\n",
    "Section 4.5 of the textbook outlines a clear workflow for solving a machine-learning problem. As a reminder, the steps included the following:\n",
    "1. Defining the problem and assembling a dataset\n",
    "2. Choosing a measure of success\n",
    "3. Deciding on an evaluation protocol\n",
    "4. Preparing the data\n",
    "5. Developing a model that does better than a baseline\n",
    "6. Scaling up: developing a model that overfits\n",
    "7. Regularizing the model and tuning hyper parameters\n",
    "\n",
    "For this project, you are required to follow the above workflow, documenting your work along the way in your report. For example, for the Humpback whale dataset, I would spend some time looking at the dataset to determine the number of classes, the number of samples per class, the number of pixels per image, etc. One key thing would be to decide the size of the images for my network given the computing power available to me.\n",
    "\n",
    "### Requirements\n",
    "Here are requirements for your work:\n",
    "* You must design and attempt to train your own convolutional neural network (implemented in Keras), following the workflow of section 4.5. \n",
    "* You must implement transfer learning (section 5.3) either through feature extraction or fine tuning. Choose one of the models prepackaged with Keras (Xception, VGG16, etc). \n",
    "* You must use one of the three visualization techniques of section 5.4 to attempt to interpret your results."
   ]
  },
  {
   "cell_type": "markdown",
   "metadata": {},
   "source": [
    "### Timeline/What to turn in for Project 3\n",
    "\n",
    "Suggested timeline:\n",
    "* Tuesday 3/22: Choose a dataset and have a model that beats a baseline.\n",
    "* Thursday 3/24: Have successfully attempted transfer learning. \n",
    "* Tuesday 3/28: Have completed work to solve overfitting.\n",
    "* Thursday 3/31: Have completed visualization and interpretation.\n",
    "\n",
    "**Your report for Project 3 (a Jupyter notebook with your code, comments in markup cells, and output cells) is due Thursday 3/31.**  "
   ]
  },
  {
   "cell_type": "markdown",
   "metadata": {},
   "source": [
    "### Learning outcomes\n",
    "After completing project 3, you will be able to:\n",
    "* Implement convolutional neural networks for image classification problems\n",
    "* Organize datasets and apply a workflow to solve a machine learning problem\n",
    "* Make decisions regarding input data, model architecture, etc. that affect the solution of classification problems"
   ]
  },
  {
   "cell_type": "code",
   "execution_count": null,
   "metadata": {},
   "outputs": [],
   "source": []
  }
 ],
 "metadata": {
  "kernelspec": {
   "display_name": "Python 3 (ipykernel)",
   "language": "python",
   "name": "python3"
  },
  "language_info": {
   "codemirror_mode": {
    "name": "ipython",
    "version": 3
   },
   "file_extension": ".py",
   "mimetype": "text/x-python",
   "name": "python",
   "nbconvert_exporter": "python",
   "pygments_lexer": "ipython3",
   "version": "3.7.6"
  }
 },
 "nbformat": 4,
 "nbformat_minor": 2
}
