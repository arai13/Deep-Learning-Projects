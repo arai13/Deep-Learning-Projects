{
  "nbformat": 4,
  "nbformat_minor": 0,
  "metadata": {
    "colab": {
      "name": "Project 2: Part 1.ipynb",
      "provenance": [],
      "collapsed_sections": []
    },
    "kernelspec": {
      "name": "python3",
      "display_name": "Python 3"
    },
    "language_info": {
      "name": "python"
    }
  },
  "cells": [
    {
      "cell_type": "markdown",
      "source": [
        "Ash Rai <br>\n",
        "CSC 675: Neural Network and Deep Learning<br>\n",
        "Spring 2021"
      ],
      "metadata": {
        "id": "LGhLwpW7PzAD"
      }
    },
    {
      "cell_type": "markdown",
      "source": [
        "# Deep Learning Project 2 : Part 1\n",
        "\n",
        "\n"
      ],
      "metadata": {
        "id": "BelWYg12FAVY"
      }
    },
    {
      "cell_type": "markdown",
      "source": [
        "## Implementation"
      ],
      "metadata": {
        "id": "5upK-UvrsZFh"
      }
    },
    {
      "cell_type": "markdown",
      "source": [
        "### Preprocessing the dataset"
      ],
      "metadata": {
        "id": "XEZrhG5xDXBe"
      }
    },
    {
      "cell_type": "markdown",
      "source": [
        "Loading the MNIST Dataset"
      ],
      "metadata": {
        "id": "bsuhSnKiP7c4"
      }
    },
    {
      "cell_type": "code",
      "execution_count": null,
      "metadata": {
        "id": "uslO1A9sJvJ2"
      },
      "outputs": [],
      "source": [
        "from keras.datasets import mnist\n",
        "(train_images, train_labels), (test_images, test_labels) = mnist.load_data()"
      ]
    },
    {
      "cell_type": "code",
      "source": [
        "import numpy as np\n",
        "import matplotlib.pyplot as plt\n",
        "import h5py\n",
        "import scipy\n",
        "from PIL import Image\n",
        "from scipy import ndimage"
      ],
      "metadata": {
        "id": "qrNnHO7mPb9R"
      },
      "execution_count": null,
      "outputs": []
    },
    {
      "cell_type": "markdown",
      "source": [
        "Example of the pictures"
      ],
      "metadata": {
        "id": "d3860lFVQPiY"
      }
    },
    {
      "cell_type": "code",
      "source": [
        "digit = train_images[4]\n",
        "plt.imshow(digit, cmap=plt.cm.binary)\n",
        "plt.show()"
      ],
      "metadata": {
        "colab": {
          "base_uri": "https://localhost:8080/",
          "height": 265
        },
        "id": "m9LEQBF5QHhl",
        "outputId": "bad524d8-bac1-4654-e57b-28d622a45346"
      },
      "execution_count": null,
      "outputs": [
        {
          "output_type": "display_data",
          "data": {
            "image/png": "[encoded data removed]",
            "text/plain": [
              "<Figure size 432x288 with 1 Axes>"
            ]
          },
          "metadata": {
            "needs_background": "light"
          }
        }
      ]
    },
    {
      "cell_type": "markdown",
      "source": [
        "Dimension Values"
      ],
      "metadata": {
        "id": "P2LLtrqMRSCD"
      }
    },
    {
      "cell_type": "code",
      "source": [
        "\n",
        "m_train = train_images.shape[0]\n",
        "m_test = test_images.shape[0]\n",
        "num_px = train_images.shape[1]\n",
        "\n",
        "print (\"Number of training examples: m_train = \" + str(m_train))\n",
        "print (\"Number of testing examples: m_test = \" + str(m_test))\n",
        "print (\"Height/Width of each image: num_px = \" + str(num_px))\n",
        "print (\"Each image is of size: (\" + str(num_px) + \", \" + str(num_px))\n",
        "print (\"train_images shape: \" + str(train_images.shape))\n",
        "print (\"train_labels shape: \" + str(train_labels.shape))\n",
        "print (\"test_images shape: \" + str(test_images.shape))\n",
        "print (\"test_labels shape: \" + str(test_labels.shape))"
      ],
      "metadata": {
        "colab": {
          "base_uri": "https://localhost:8080/"
        },
        "id": "DZR5rgNxQaDB",
        "outputId": "653cebff-83a5-4299-8716-9f109dcaf608"
      },
      "execution_count": null,
      "outputs": [
        {
          "output_type": "stream",
          "name": "stdout",
          "text": [
            "Number of training examples: m_train = 60000\n",
            "Number of testing examples: m_test = 10000\n",
            "Height/Width of each image: num_px = 28\n",
            "Each image is of size: (28, 28\n",
            "train_images shape: (60000, 28, 28)\n",
            "train_labels shape: (60000,)\n",
            "test_images shape: (10000, 28, 28)\n",
            "test_labels shape: (10000,)\n"
          ]
        }
      ]
    },
    {
      "cell_type": "code",
      "source": [
        "train_images_flatten =  train_images.reshape(train_images.shape[0], -1)\n",
        "test_images_flatten = test_images.reshape(test_images.shape[0], -1)\n",
        "\n",
        "print (\"train_set_x_flatten shape: \" + str(train_images_flatten.shape))\n",
        "print (\"train_set_y shape: \" + str(train_labels.shape))\n",
        "print (\"test_images_flatten shape: \" + str(test_images_flatten.shape))\n",
        "print (\"test_labels shape: \" + str(test_labels.shape))\n",
        "print (\"sanity check after reshaping: \" + str(train_images_flatten[0:5,0]))"
      ],
      "metadata": {
        "colab": {
          "base_uri": "https://localhost:8080/"
        },
        "id": "PKQAyfajROgB",
        "outputId": "22e2b365-9b2c-4cbc-9414-ff67217825e3"
      },
      "execution_count": null,
      "outputs": [
        {
          "output_type": "stream",
          "name": "stdout",
          "text": [
            "train_set_x_flatten shape: (60000, 784)\n",
            "train_set_y shape: (60000,)\n",
            "test_images_flatten shape: (10000, 784)\n",
            "test_labels shape: (10000,)\n",
            "sanity check after reshaping: [0 0 0 0 0]\n"
          ]
        }
      ]
    },
    {
      "cell_type": "markdown",
      "source": [
        "Standarding the dataset"
      ],
      "metadata": {
        "id": "dfVGhNdESxlB"
      }
    },
    {
      "cell_type": "code",
      "source": [
        "train_images_processed = train_images_flatten/255\n",
        "test_images_processed = test_images_flatten/255"
      ],
      "metadata": {
        "id": "F4GAw8aeR-i7"
      },
      "execution_count": null,
      "outputs": []
    },
    {
      "cell_type": "markdown",
      "source": [
        "Setting up the dataset for the run. This part has two purposes:\n",
        "\n",
        "\n",
        "1.   Altering dataset into a binary classification problem, by classifying for the given training_digit\n",
        "2.   Sample it to have equal images for the training digit images and non-training digit images"
      ],
      "metadata": {
        "id": "9zZRTkYFTamH"
      }
    },
    {
      "cell_type": "code",
      "source": [
        "def setup_new_dataset(training_digit):\n",
        "  # setting up train dataset\n",
        "  unique, counts = np.unique(train_labels, return_counts=True)\n",
        "  number_of_training_digits = dict(zip(unique, counts))[0]\n",
        "\n",
        "  sampled_digit_count = 0\n",
        "  sampled_non_digit_count = 0\n",
        "\n",
        "  sampled_train_images_list = []\n",
        "  sampled_train_labels_list = [[]]\n",
        "\n",
        "  for i in range(train_labels.shape[0]):\n",
        "    if (train_labels[i] == training_digit and sampled_digit_count < number_of_training_digits):\n",
        "      sampled_train_images_list.append(train_images_processed[i].tolist())\n",
        "      sampled_train_labels_list[0].append(1)\n",
        "      sampled_digit_count += 1\n",
        "\n",
        "    elif (train_labels[i] != training_digit and sampled_non_digit_count < number_of_training_digits):\n",
        "      sampled_train_images_list.append(train_images_processed[i].tolist())\n",
        "      sampled_train_labels_list[0].append(0)\n",
        "      sampled_non_digit_count += 1\n",
        "\n",
        "    if (sampled_digit_count == number_of_training_digits and sampled_non_digit_count == number_of_training_digits):\n",
        "      # sampling complete, with equal number of training_digit images and non-training_digit images\n",
        "      break\n",
        "  \n",
        "  # setting up test dataset\n",
        "  unique, counts = np.unique(test_labels, return_counts=True)\n",
        "  number_of_test_digits = dict(zip(unique, counts))[0]\n",
        "\n",
        "  sampled_digit_count = 0\n",
        "  sampled_non_digit_count = 0\n",
        "\n",
        "  sampled_test_images_list = []\n",
        "  sampled_test_labels_list = [[]]\n",
        "\n",
        "  for i in range(test_labels.shape[0]):\n",
        "    if (test_labels[i] == training_digit and sampled_digit_count < number_of_test_digits):\n",
        "      sampled_test_images_list.append(test_images_processed[i].tolist())\n",
        "      sampled_test_labels_list[0].append(1)\n",
        "      sampled_digit_count += 1\n",
        "\n",
        "    elif (test_labels[i] != training_digit and sampled_non_digit_count < number_of_test_digits):\n",
        "      sampled_test_images_list.append(test_images_processed[i].tolist())\n",
        "      sampled_test_labels_list[0].append(0)\n",
        "      sampled_non_digit_count += 1\n",
        "\n",
        "    if (sampled_digit_count == number_of_test_digits and sampled_non_digit_count == number_of_test_digits):\n",
        "      # sampling complete, with equal number of training_digit images and non-training_digit images\n",
        "      break\n",
        "\n",
        "  return np.array(sampled_train_images_list).T, np.array(sampled_train_labels_list), np.array(sampled_test_images_list).T, np.array(sampled_test_labels_list)"
      ],
      "metadata": {
        "id": "6IftnHQKTaPd"
      },
      "execution_count": null,
      "outputs": []
    },
    {
      "cell_type": "markdown",
      "source": [
        "### Neural Network Implementation"
      ],
      "metadata": {
        "id": "dS1A7RLcDbU5"
      }
    },
    {
      "cell_type": "markdown",
      "source": [
        "Sigmoid function implementation"
      ],
      "metadata": {
        "id": "1o8ei7CVDwgG"
      }
    },
    {
      "cell_type": "code",
      "source": [
        "def sigmoid(z):\n",
        "    \"\"\"\n",
        "    Compute the sigmoid of z\n",
        "\n",
        "    Arguments:\n",
        "    z -- A scalar or numpy array of any size.\n",
        "\n",
        "    Return:\n",
        "    s -- sigmoid(z)\n",
        "    \"\"\"\n",
        "\n",
        "    s = 1 / (1 + np.exp(-z))\n",
        "    return s"
      ],
      "metadata": {
        "id": "B44BcFMHUf86"
      },
      "execution_count": null,
      "outputs": []
    },
    {
      "cell_type": "markdown",
      "source": [
        "Initializing parameters"
      ],
      "metadata": {
        "id": "HHx76-yOD2Tf"
      }
    },
    {
      "cell_type": "code",
      "source": [
        "def initialize_with_zeros(dim):\n",
        "    \"\"\"\n",
        "    This function creates a vector of zeros of shape (dim, 1) for w and initializes b to 0.\n",
        "    \n",
        "    Argument:\n",
        "    dim -- size of the w vector we want (or number of parameters in this case)\n",
        "    \n",
        "    Returns:\n",
        "    w -- initialized vector of shape (dim, 1)\n",
        "    b -- initialized scalar (corresponds to the bias)\n",
        "    \"\"\"\n",
        "    \n",
        "    w = np.zeros((dim, 1))\n",
        "    b = 0\n",
        "\n",
        "    assert(w.shape == (dim, 1))\n",
        "    assert(isinstance(b, float) or isinstance(b, int))\n",
        "    \n",
        "    return w, b"
      ],
      "metadata": {
        "id": "CPSWIhmSDiXS"
      },
      "execution_count": null,
      "outputs": []
    },
    {
      "cell_type": "markdown",
      "source": [
        " Forward and Backward propagation"
      ],
      "metadata": {
        "id": "T_EbPbJtE4Vu"
      }
    },
    {
      "cell_type": "code",
      "source": [
        "def propagate(w, b, X, Y):\n",
        "    \"\"\"\n",
        "    Implement the cost function and its gradient for the propagation explained above\n",
        "\n",
        "    Arguments:\n",
        "    w -- weights, a numpy array of size (num_px * num_px * 3, 1)\n",
        "    b -- bias, a scalar\n",
        "    X -- data of size (num_px * num_px * 3, number of examples)\n",
        "    Y -- true \"label\" vector (containing 0 if non-cat, 1 if cat) of size (1, number of examples)\n",
        "\n",
        "    Return:\n",
        "    cost -- negative log-likelihood cost for logistic regression\n",
        "    dw -- gradient of the loss with respect to w, thus same shape as w\n",
        "    db -- gradient of the loss with respect to b, thus same shape as b\n",
        "    \n",
        "    Tips:\n",
        "    - Write your code step by step for the propagation. np.log(), np.dot()\n",
        "    \"\"\"\n",
        "    \n",
        "    m = X.shape[1]\n",
        "    \n",
        "    # FORWARD PROPAGATION (FROM X TO COST)\n",
        "    A = sigmoid(np.dot(w.T, X) + b)                                    # compute activation\n",
        "    cost = (-1 / m) * (np.sum((Y * np.log(A)) + ((1 - Y) * np.log(1 - A))))                         # compute cost\n",
        "    \n",
        "    # BACKWARD PROPAGATION (TO FIND GRAD)\n",
        "    dw = (1 / m) * (np.dot(X, (A - Y).T))\n",
        "    db = (1 / m) * np.sum(A - Y)\n",
        "\n",
        "    assert(dw.shape == w.shape)\n",
        "    assert(db.dtype == float)\n",
        "    cost = np.squeeze(cost)\n",
        "    assert(cost.shape == ())\n",
        "    \n",
        "    grads = {\"dw\": dw,\n",
        "             \"db\": db}\n",
        "    \n",
        "    return grads, cost"
      ],
      "metadata": {
        "id": "xAzk1FFgEygg"
      },
      "execution_count": null,
      "outputs": []
    },
    {
      "cell_type": "markdown",
      "source": [
        "Optimization"
      ],
      "metadata": {
        "id": "rZMhkbxoLGeq"
      }
    },
    {
      "cell_type": "code",
      "source": [
        "def optimize(w, b, X, Y, num_iterations, learning_rate, print_cost = False):\n",
        "    \"\"\"\n",
        "    This function optimizes w and b by running a gradient descent algorithm\n",
        "    \n",
        "    Arguments:\n",
        "    w -- weights, a numpy array of size (num_px * num_px * 3, 1)\n",
        "    b -- bias, a scalar\n",
        "    X -- data of shape (num_px * num_px * 3, number of examples)\n",
        "    Y -- true \"label\" vector (containing 0 if non-cat, 1 if cat), of shape (1, number of examples)\n",
        "    num_iterations -- number of iterations of the optimization loop\n",
        "    learning_rate -- learning rate of the gradient descent update rule\n",
        "    print_cost -- True to print the loss every 100 steps\n",
        "    \n",
        "    Returns:\n",
        "    params -- dictionary containing the weights w and bias b\n",
        "    grads -- dictionary containing the gradients of the weights and bias with respect to the cost function\n",
        "    costs -- list of all the costs computed during the optimization, this will be used to plot the learning curve.\n",
        "    \n",
        "    Tips:\n",
        "    You basically need to write down two steps and iterate through them:\n",
        "        1) Calculate the cost and the gradient for the current parameters. Use propagate().\n",
        "        2) Update the parameters using gradient descent rule for w and b.\n",
        "    \"\"\"\n",
        "    \n",
        "    costs = []\n",
        "    \n",
        "    for i in range(num_iterations):\n",
        "        # Cost and gradient calculation (≈ 1-4 lines of code)\n",
        "        grads, cost = propagate(w, b, X, Y)\n",
        "        \n",
        "        # Retrieve derivatives from grads\n",
        "        dw = grads[\"dw\"]\n",
        "        db = grads[\"db\"]\n",
        "        \n",
        "        # update rule (≈ 2 lines of code)\n",
        "        w = w - (learning_rate * dw)\n",
        "        b = b - (learning_rate * db)\n",
        "        \n",
        "        # Record the costs\n",
        "        if i % 100 == 0:\n",
        "            costs.append(cost)\n",
        "        \n",
        "        # Print the cost every 100 training examples\n",
        "        if print_cost and i % 100 == 0:\n",
        "            print (\"Cost after iteration %i: %f\" %(i, cost))\n",
        "    \n",
        "    params = {\"w\": w,\n",
        "              \"b\": b}\n",
        "    \n",
        "    grads = {\"dw\": dw,\n",
        "             \"db\": db}\n",
        "    \n",
        "    return params, grads, costs"
      ],
      "metadata": {
        "id": "nbWcLypvGtY9"
      },
      "execution_count": null,
      "outputs": []
    },
    {
      "cell_type": "markdown",
      "source": [
        "Prediction"
      ],
      "metadata": {
        "id": "gSiZEM0WLMLb"
      }
    },
    {
      "cell_type": "code",
      "source": [
        "def predict(w, b, X):\n",
        "    '''\n",
        "    Predict whether the label is 0 or 1 using learned logistic regression parameters (w, b)\n",
        "    \n",
        "    Arguments:\n",
        "    w -- weights, a numpy array of size (num_px * num_px * 3, 1)\n",
        "    b -- bias, a scalar\n",
        "    X -- data of size (num_px * num_px * 3, number of examples)\n",
        "    \n",
        "    Returns:\n",
        "    Y_prediction -- a numpy array (vector) containing all predictions (0/1) for the examples in X\n",
        "    '''\n",
        "    \n",
        "    m = X.shape[1]\n",
        "    Y_prediction = np.zeros((1,m))\n",
        "    w = w.reshape(X.shape[0], 1)\n",
        "    \n",
        "    # Compute vector \"A\" predicting the probabilities of a cat being present in the picture\n",
        "    A = sigmoid(np.dot(w.T, X) + b)\n",
        "    \n",
        "    for i in range(A.shape[1]):   \n",
        "        # Convert probabilities A[0,i] to actual predictions p[0,i]\n",
        "        if (A[0, i] >= 0.5):\n",
        "          Y_prediction[0, i] = 1\n",
        "        else:\n",
        "          Y_prediction[0, i] = 0\n",
        "\n",
        "    \n",
        "    assert(Y_prediction.shape == (1, m))\n",
        "    \n",
        "    return Y_prediction"
      ],
      "metadata": {
        "id": "CKl-dqrOJvQx"
      },
      "execution_count": null,
      "outputs": []
    },
    {
      "cell_type": "markdown",
      "source": [
        "Merge all functions into a model"
      ],
      "metadata": {
        "id": "F_IAGLVnL9NF"
      }
    },
    {
      "cell_type": "code",
      "source": [
        "def model(X_train, Y_train, X_test, Y_test, num_iterations = 2000, learning_rate = 0.5, print_cost = False):\n",
        "    \"\"\"\n",
        "    Builds the logistic regression model by calling the function you've implemented previously\n",
        "    \n",
        "    Arguments:\n",
        "    X_train -- training set represented by a numpy array of shape (num_px * num_px * 3, m_train)\n",
        "    Y_train -- training labels represented by a numpy array (vector) of shape (1, m_train)\n",
        "    X_test -- test set represented by a numpy array of shape (num_px * num_px * 3, m_test)\n",
        "    Y_test -- test labels represented by a numpy array (vector) of shape (1, m_test)\n",
        "    num_iterations -- hyperparameter representing the number of iterations to optimize the parameters\n",
        "    learning_rate -- hyperparameter representing the learning rate used in the update rule of optimize()\n",
        "    print_cost -- Set to true to print the cost every 100 iterations\n",
        "    \n",
        "    Returns:\n",
        "    d -- dictionary containing information about the model.\n",
        "    \"\"\"\n",
        "    \n",
        "    ### START CODE HERE ###\n",
        "    \n",
        "    # initialize parameters with zeros (≈ 1 line of code)\n",
        "    w, b = initialize_with_zeros(X_train.shape[0])\n",
        "\n",
        "    # Gradient descent (≈ 1 line of code)\n",
        "    parameters, grads, costs = optimize(w, b, X_train, Y_train, num_iterations, learning_rate, print_cost)\n",
        "    \n",
        "    # Retrieve parameters w and b from dictionary \"parameters\"\n",
        "    w = parameters[\"w\"]\n",
        "    b = parameters[\"b\"]\n",
        "    \n",
        "    # Predict test/train set examples (≈ 2 lines of code)\n",
        "    Y_prediction_test = predict(w, b, X_test)\n",
        "    Y_prediction_train = predict(w, b, X_train)\n",
        "\n",
        "    # Print train/test Errors\n",
        "    print(\"train accuracy: {} %\".format(100 - np.mean(np.abs(Y_prediction_train - Y_train)) * 100))\n",
        "    print(\"test accuracy: {} %\".format(100 - np.mean(np.abs(Y_prediction_test - Y_test)) * 100))\n",
        "\n",
        "    \n",
        "    d = {\"costs\": costs,\n",
        "         \"Y_prediction_test\": Y_prediction_test, \n",
        "         \"Y_prediction_train\" : Y_prediction_train, \n",
        "         \"w\" : w, \n",
        "         \"b\" : b,\n",
        "         \"learning_rate\" : learning_rate,\n",
        "         \"num_iterations\": num_iterations}\n",
        "    \n",
        "    return d"
      ],
      "metadata": {
        "id": "zyzwtw_ZJvqk"
      },
      "execution_count": null,
      "outputs": []
    },
    {
      "cell_type": "markdown",
      "source": [
        "Training the model"
      ],
      "metadata": {
        "id": "NW1LUXiNNvMx"
      }
    },
    {
      "cell_type": "code",
      "source": [
        "sampled_train_images, sampled_train_labels, sampled_test_images, sampled_test_labels = setup_new_dataset(0)\n",
        "d = model(sampled_train_images, sampled_train_labels, sampled_test_images, sampled_test_labels, num_iterations = 2000, learning_rate = 0.005, print_cost = True)"
      ],
      "metadata": {
        "colab": {
          "base_uri": "https://localhost:8080/"
        },
        "id": "ESuqJQE6LlKQ",
        "outputId": "31577ec4-2f05-4656-c3b6-b9d9a46547f7"
      },
      "execution_count": null,
      "outputs": [
        {
          "output_type": "stream",
          "name": "stdout",
          "text": [
            "Cost after iteration 0: 0.693147\n",
            "Cost after iteration 100: 0.375061\n",
            "Cost after iteration 200: 0.282723\n",
            "Cost after iteration 300: 0.238480\n",
            "Cost after iteration 400: 0.211917\n",
            "Cost after iteration 500: 0.193837\n",
            "Cost after iteration 600: 0.180531\n",
            "Cost after iteration 700: 0.170207\n",
            "Cost after iteration 800: 0.161890\n",
            "Cost after iteration 900: 0.154997\n",
            "Cost after iteration 1000: 0.149160\n",
            "Cost after iteration 1100: 0.144130\n",
            "Cost after iteration 1200: 0.139733\n",
            "Cost after iteration 1300: 0.135846\n",
            "Cost after iteration 1400: 0.132375\n",
            "Cost after iteration 1500: 0.129249\n",
            "Cost after iteration 1600: 0.126415\n",
            "Cost after iteration 1700: 0.123828\n",
            "Cost after iteration 1800: 0.121455\n",
            "Cost after iteration 1900: 0.119266\n",
            "train accuracy: 96.75839945973324 %\n",
            "test accuracy: 97.65306122448979 %\n"
          ]
        }
      ]
    },
    {
      "cell_type": "markdown",
      "source": [
        "### Results"
      ],
      "metadata": {
        "id": "74XPLoU6Oe5P"
      }
    },
    {
      "cell_type": "markdown",
      "source": [
        "Plotting cost function and the gradients"
      ],
      "metadata": {
        "id": "guqxId8MO68e"
      }
    },
    {
      "cell_type": "code",
      "source": [
        "import seaborn as sns\n",
        "\n",
        "# Plot learning curve (with costs)\n",
        "costs = np.squeeze(d['costs'])\n",
        "sns.set_theme(style=\"darkgrid\")\n",
        "#sns.lineplot(costs)\n",
        "plt.figure(figsize=(10,10))\n",
        "plt.plot(costs)\n",
        "plt.ylabel('cost')\n",
        "plt.xlabel('iterations (per hundreds)')\n",
        "plt.title(\"Learning rate =\" + str(d[\"learning_rate\"]))\n",
        "plt.show()"
      ],
      "metadata": {
        "colab": {
          "base_uri": "https://localhost:8080/",
          "height": 627
        },
        "id": "BN2Lx2HwO-hi",
        "outputId": "8325d1a3-1030-4d80-b2f4-88c80e472944"
      },
      "execution_count": null,
      "outputs": [
        {
          "output_type": "display_data",
          "data": {
            "image/png": "[encoded data removed]",
            "text/plain": [
              "<Figure size 720x720 with 1 Axes>"
            ]
          },
          "metadata": {}
        }
      ]
    },
    {
      "cell_type": "markdown",
      "source": [
        "Choice of Learning Rate (applied to digit 0)\n",
        "\n"
      ],
      "metadata": {
        "id": "q7ajdkFtSCtc"
      }
    },
    {
      "cell_type": "code",
      "source": [
        "learning_rates = [0.01, 0.001, 0.0001]\n",
        "models = {}\n",
        "sampled_train_images, sampled_train_labels, sampled_test_images, sampled_test_labels = setup_new_dataset(0)\n",
        "\n",
        "for i in learning_rates:\n",
        "    print (\"learning rate is: \" + str(i))\n",
        "    models[str(i)] = model(sampled_train_images, sampled_train_labels, sampled_test_images, sampled_test_labels, num_iterations = 1500, learning_rate = i, print_cost = False)\n",
        "    print ('\\n' + \"-------------------------------------------------------\" + '\\n')\n",
        "\n",
        "plt.figure(figsize=(10,10))\n",
        "for i in learning_rates:\n",
        "    plt.plot(np.squeeze(models[str(i)][\"costs\"]), label= str(models[str(i)][\"learning_rate\"]))\n",
        "\n",
        "plt.ylabel('cost')\n",
        "plt.xlabel('iterations')\n",
        "plt.title(\"Comparing differeng learning rates\")\n",
        "\n",
        "legend = plt.legend(loc='upper center', shadow=True)\n",
        "frame = legend.get_frame()\n",
        "frame.set_facecolor('0.90')\n",
        "plt.show()"
      ],
      "metadata": {
        "colab": {
          "base_uri": "https://localhost:8080/",
          "height": 939
        },
        "id": "fiFcBNAmQJZZ",
        "outputId": "5a66e377-1071-4ba0-a2b1-be4a70223a97"
      },
      "execution_count": null,
      "outputs": [
        {
          "output_type": "stream",
          "name": "stdout",
          "text": [
            "learning rate is: 0.01\n",
            "train accuracy: 97.03697450616242 %\n",
            "test accuracy: 97.70408163265306 %\n",
            "\n",
            "-------------------------------------------------------\n",
            "\n",
            "learning rate is: 0.001\n",
            "train accuracy: 94.63109910518318 %\n",
            "test accuracy: 96.22448979591837 %\n",
            "\n",
            "-------------------------------------------------------\n",
            "\n",
            "learning rate is: 0.0001\n",
            "train accuracy: 86.9745061624177 %\n",
            "test accuracy: 88.77551020408163 %\n",
            "\n",
            "-------------------------------------------------------\n",
            "\n"
          ]
        },
        {
          "output_type": "display_data",
          "data": {
            "image/png": "[encoded data removed]",
            "text/plain": [
              "<Figure size 720x720 with 1 Axes>"
            ]
          },
          "metadata": {}
        }
      ]
    },
    {
      "cell_type": "code",
      "source": [
        "classification_digits = [0, 1, 2, 3, 4, 5, 6, 7, 8, 9]\n",
        "models = {}\n",
        "\n",
        "for i in classification_digits:\n",
        "    print (\"Digit for classification: \" + str(i))\n",
        "    sampled_train_images, sampled_train_labels, sampled_test_images, sampled_test_labels = setup_new_dataset(i)\n",
        "    model(sampled_train_images, sampled_train_labels, sampled_test_images, sampled_test_labels, num_iterations = 2000, learning_rate = 0.01, print_cost = False)\n",
        "    print('-----------------------------------------------------')"
      ],
      "metadata": {
        "colab": {
          "base_uri": "https://localhost:8080/"
        },
        "id": "rMTxr8VLFjAY",
        "outputId": "d76f87e3-7440-4f80-b935-3976f67228a4"
      },
      "execution_count": null,
      "outputs": [
        {
          "output_type": "stream",
          "name": "stdout",
          "text": [
            "Digit for classification: 0\n",
            "train accuracy: 97.28178288029714 %\n",
            "test accuracy: 97.95918367346938 %\n",
            "-----------------------------------------------------\n",
            "Digit for classification: 1\n",
            "train accuracy: 97.40840790140132 %\n",
            "test accuracy: 97.55102040816327 %\n",
            "-----------------------------------------------------\n",
            "Digit for classification: 2\n",
            "train accuracy: 93.23822387303731 %\n",
            "test accuracy: 93.62244897959184 %\n",
            "-----------------------------------------------------\n",
            "Digit for classification: 3\n",
            "train accuracy: 92.6304237717373 %\n",
            "test accuracy: 91.73469387755102 %\n",
            "-----------------------------------------------------\n",
            "Digit for classification: 4\n",
            "train accuracy: 94.7726306842329 %\n",
            "test accuracy: 94.89795918367346 %\n",
            "-----------------------------------------------------\n",
            "Digit for classification: 5\n",
            "train accuracy: 91.00846262341327 %\n",
            "test accuracy: 89.69017094017094 %\n",
            "-----------------------------------------------------\n",
            "Digit for classification: 6\n",
            "train accuracy: 96.5627903048729 %\n",
            "test accuracy: 96.59442724458205 %\n",
            "-----------------------------------------------------\n",
            "Digit for classification: 7\n",
            "train accuracy: 95.7538409589735 %\n",
            "test accuracy: 94.59183673469387 %\n",
            "-----------------------------------------------------\n",
            "Digit for classification: 8\n",
            "train accuracy: 88.50008493290301 %\n",
            "test accuracy: 87.10337768679632 %\n",
            "-----------------------------------------------------\n",
            "Digit for classification: 9\n",
            "train accuracy: 90.8576734762789 %\n",
            "test accuracy: 90.35714285714286 %\n",
            "-----------------------------------------------------\n"
          ]
        }
      ]
    },
    {
      "cell_type": "markdown",
      "source": [
        "## Analysis\n",
        "\n",
        "**Are there digits in the MNIST dataset that seem harder to classify? If so, did you see similar trends when you applied unsupervised learning in Project 1?**\n",
        "\n",
        "The results from the classification here seems to be in line with my results from project 1. In project 1, looking at my confusion matrix for the clustering, '1' and '0' were the best performers. This is the case with the classification resuls from this project as well, where '0' and '1' have the best accuracy between 97% and 98% for both the train and test datasets, for both digits. Conversely, in project 1, '5', '8' and '9' were the worst performers. This is also in line again with my results here, with the 3 digits having the lowest 3 accuracy among all the 10 digits. I believe this comes down to the fact that '0' and '1' are the most unique digits in terms of visual representation, wheras '5', '8' and '9' have similar counterparts (for instance, '5' vs '6' and '8' vs '9'). The similar representation leads to mislabeling by the model, affecting the accuracy.\n",
        "\n",
        "<br>\n",
        "\n",
        "**How do the learning curve, the train accuracy, and the test accuracy change as function of the learning rate assuming a fix number of iterations (say, 2000 iterations)?**\n",
        "\n",
        "I ran different values of the learning rate at 0.01, 0.001 and 0.0001 at 2000 iterations for the digit '0'. The accuracy was the best for the learning rate of 0.01 (about 97% for both train and test datasets), with a small drop for the learning rate of 0.001 (94% train accuracy and 96% test accuracy). However, the accuracy dropped fairly significantly for the value of 0.0001 at 87% train accuracy and 89% test accuracy. \n",
        "\n",
        "It seemed like the accuracy got worse as the learning rate got smaller. Following up on that, for the cost trend, the cost at all points of the iteration also suffered as the learning rates got smaller. Cost at all points is best for the learning rate of 0.01, folllowed by 0.001 and then 0.0001.\n",
        "\n",
        "\n",
        "<br>\n",
        "\n",
        "**What do you think about the accuracy results you are getting? Do you trust them? Why or why not. Hint: Think about how you preprocessed the MNIST data to set up your binary classification problem.**\n",
        "\n",
        "I am fairly confident about the accuracy results, as long as the labeling in MNIST dataset itself is reliable. For my preprocessing to set up the binary classification problem, I followed the following steps:\n",
        "\n",
        "1. Iterated through the dataset, choosing all the images for the classification digit, and an equal number of images of other digits.\n",
        "2.I created a new label set using the MNIST label, where 1 indicated the positive classification and 0 indicated a negative one.\n",
        "3. The images and the label were sampled in a coupled way, so they should be in proper order.\n",
        "4. I counted the total count of the classification digit beforehand, so that we have an equal number of positive and negative classification data points.\n",
        "5. Since MNIST dataset is already fairly random, I did not worry my negative data points (images) being heavily skewed towards any particular digit/s even though their distribution in the context of the full dataset could be concentrated.\n",
        "\n",
        "<br>\n",
        "\n",
        "**Your algorithm has learned a weight vector and a bias value. Is there something you can say about the weight vector? Is there meaning to it or is it just a useless byproduct?**\n",
        "\n",
        "The weight vector determines the importance of each feature from the input in terms of the output. A lower weight value will mean that the corresponding input feature with have a smaller influence on the output while the higher weight value will mean a higher influence from the corresonding input feature. In our model, since each pixel is a feature itself, the weight vector determines the importance of each pixel in terms of determining the digit. So I would think that a pixel, say at the left top corner of the image which probably would not have any part of the digit drawn, would have a low influence on the output and hence a lower value in the corresponding weight vector. Pixels near the center of the image might have higher corresponding weight values conversely since the nuances of the digit representation is heavily located there."
      ],
      "metadata": {
        "id": "xLPhp-tIsENq"
      }
    }
  ]
}